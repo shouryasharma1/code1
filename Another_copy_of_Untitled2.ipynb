{
  "cells": [
    {
      "cell_type": "markdown",
      "metadata": {
        "id": "view-in-github",
        "colab_type": "text"
      },
      "source": [
        "<a href=\"https://colab.research.google.com/github/shouryasharma1/code1/blob/main/Another_copy_of_Untitled2.ipynb\" target=\"_parent\"><img src=\"https://colab.research.google.com/assets/colab-badge.svg\" alt=\"Open In Colab\"/></a>"
      ]
    },
    {
      "cell_type": "code",
      "execution_count": null,
      "metadata": {
        "id": "HXyQVjn5VCFT"
      },
      "outputs": [],
      "source": [
        "import random\n",
        "import matplotlib.pyplot as plt"
      ]
    },
    {
      "cell_type": "markdown",
      "source": [
        "-> import random is used for getting random integers\n",
        "\n",
        "-> import matplotlib.pyplot is use for data visualization & graph plotting and here we use it for graph plotting\n",
        "\n",
        "-> We used **plt** for reference to matplotlib.pyplot so we don't have to write it again & again"
      ],
      "metadata": {
        "id": "6C1o_XGO3ScY"
      }
    },
    {
      "cell_type": "code",
      "execution_count": null,
      "metadata": {
        "id": "3vAeQvqxYQQc"
      },
      "outputs": [],
      "source": [
        "mapping_dict = dict(zip(range(0,10),range(0,10)))"
      ]
    },
    {
      "cell_type": "markdown",
      "source": [
        "-> we are declaring dictionary variable called **mapping_dict**\n",
        "\n",
        "-> **zip** function is used to merge two Iterables together\n",
        "\n",
        "-> Using **zip** with **dict** it will convert iterables into dictionary\n",
        "\n",
        "-> Note-Iterables means an object which can be looped with the help of **for loop**\n",
        "\n",
        "Example-Lists,Tuples,Sets,Dictionaries,etc\n"
      ],
      "metadata": {
        "id": "kBC2exBT-tUV"
      }
    },
    {
      "cell_type": "code",
      "execution_count": null,
      "metadata": {
        "colab": {
          "base_uri": "https://localhost:8080/"
        },
        "id": "oBzWrsy2nsoC",
        "outputId": "eeb0a665-b8d4-4db6-9522-1e3069d277e4"
      },
      "outputs": [
        {
          "output_type": "execute_result",
          "data": {
            "text/plain": [
              "{0: 0, 1: 1, 2: 2, 3: 3, 4: 4, 5: 5, 6: 6, 7: 7, 8: 8, 9: 9}"
            ]
          },
          "metadata": {},
          "execution_count": 47
        }
      ],
      "source": [
        "mapping_dict"
      ]
    },
    {
      "cell_type": "code",
      "execution_count": null,
      "metadata": {
        "id": "ghEVfaoApjSN"
      },
      "outputs": [],
      "source": [
        "for k in mapping_dict.keys():\n",
        "\n",
        "  mapping_dict[k] = str(mapping_dict[k])"
      ]
    },
    {
      "cell_type": "markdown",
      "source": [
        "-> Here we are converting Keys into Values\n",
        "so we are using for loop for it\n",
        "\n",
        "-> By the help of it Keys will be converted into string and then used as values"
      ],
      "metadata": {
        "id": "x47K2P8IERMW"
      }
    },
    {
      "cell_type": "code",
      "execution_count": null,
      "metadata": {
        "colab": {
          "base_uri": "https://localhost:8080/"
        },
        "id": "VKAyIsW6q_qS",
        "outputId": "725fa897-73e6-47a6-bac4-717aa1fe7db2"
      },
      "outputs": [
        {
          "output_type": "execute_result",
          "data": {
            "text/plain": [
              "{0: '0',\n",
              " 1: '1',\n",
              " 2: '2',\n",
              " 3: '3',\n",
              " 4: '4',\n",
              " 5: '5',\n",
              " 6: '6',\n",
              " 7: '7',\n",
              " 8: '8',\n",
              " 9: '9'}"
            ]
          },
          "metadata": {},
          "execution_count": 49
        }
      ],
      "source": [
        "mapping_dict"
      ]
    },
    {
      "cell_type": "code",
      "execution_count": null,
      "metadata": {
        "id": "GowosEpVrXfK"
      },
      "outputs": [],
      "source": [
        "for i in range(0,26):\n",
        "  mapping_dict[10+i] = chr(65+i)"
      ]
    },
    {
      "cell_type": "markdown",
      "source": [
        "-> Addition of new character in dictionary which is A-Z by the help of \"for loop\" using **ASCII values**\n"
      ],
      "metadata": {
        "id": "zCHXFM0gGKk6"
      }
    },
    {
      "cell_type": "code",
      "execution_count": null,
      "metadata": {
        "colab": {
          "base_uri": "https://localhost:8080/"
        },
        "id": "beprdUCauVOp",
        "outputId": "67f6705b-94d6-4d64-ec23-0bc85f2eb3d8"
      },
      "outputs": [
        {
          "output_type": "execute_result",
          "data": {
            "text/plain": [
              "{0: '0',\n",
              " 1: '1',\n",
              " 2: '2',\n",
              " 3: '3',\n",
              " 4: '4',\n",
              " 5: '5',\n",
              " 6: '6',\n",
              " 7: '7',\n",
              " 8: '8',\n",
              " 9: '9',\n",
              " 10: 'A',\n",
              " 11: 'B',\n",
              " 12: 'C',\n",
              " 13: 'D',\n",
              " 14: 'E',\n",
              " 15: 'F',\n",
              " 16: 'G',\n",
              " 17: 'H',\n",
              " 18: 'I',\n",
              " 19: 'J',\n",
              " 20: 'K',\n",
              " 21: 'L',\n",
              " 22: 'M',\n",
              " 23: 'N',\n",
              " 24: 'O',\n",
              " 25: 'P',\n",
              " 26: 'Q',\n",
              " 27: 'R',\n",
              " 28: 'S',\n",
              " 29: 'T',\n",
              " 30: 'U',\n",
              " 31: 'V',\n",
              " 32: 'W',\n",
              " 33: 'X',\n",
              " 34: 'Y',\n",
              " 35: 'Z'}"
            ]
          },
          "metadata": {},
          "execution_count": 51
        }
      ],
      "source": [
        "mapping_dict"
      ]
    },
    {
      "cell_type": "code",
      "execution_count": null,
      "metadata": {
        "id": "KPGkS2NXVMGn"
      },
      "outputs": [],
      "source": [
        "sample_size = 1000000\n",
        "\n",
        "random_numbers = list()\n",
        "\n",
        "for i in range(0,sample_size):\n",
        "\n",
        "  blank_str = str()\n",
        "\n",
        "  random_digit = random.randint(0,35)\n",
        "  blank_str = blank_str + mapping_dict[random_digit]\n",
        "\n",
        "  random_digit = random.randint(0,35)\n",
        "  blank_str = blank_str + mapping_dict[random_digit]\n",
        "\n",
        "  for i in range(0,8):\n",
        "    coin_toss = random.randint(0,1)\n",
        "\n",
        "    if coin_toss == 1:\n",
        "\n",
        "      random_digit = random.randint(0,35)\n",
        "      blank_str = blank_str + mapping_dict[random_digit]\n",
        "\n",
        "    else:\n",
        "      break\n",
        "\n",
        "  random_numbers.append(blank_str)"
      ]
    },
    {
      "cell_type": "markdown",
      "source": [
        "-> sample size=10,00,000 means coin will be tossed ten lakh times\n",
        "\n",
        "-> Declaring random_numbers as list variable\n",
        "\n",
        "-> Using for loop for tossing coin giving range from 0 to our given sample size\n",
        "\n",
        "-> Declaring blank_str as sting variable\n",
        "\n",
        "-> we use\n",
        "\n",
        "**random_digit = random.randint(0,35)**\n",
        "\n",
        "**blank_str = blank_str + mapping_dict[random_digit]**\n",
        "\n",
        "\n",
        "two time before the loop so that ,if in case if condition break without giving any number then blank_str will be empty to avoid this we insert two number before the loop\n",
        "\n",
        "-> In for loop we have give range to run the loop for 8 time only cause we need only 10 numbers and we already got 2 number before the loop\n",
        "\n",
        "-> Variable **coin_toss** will get any number either 1 or 0\n",
        "\n",
        "-> if coin_toss is equal to 1 then random_digit will get any random number from 0 to 35 and that number will use as key to find value in mapping_dict and that value will be added in blank_str in the from of string\n",
        "\n",
        "-> else in any other condition loop will break\n",
        "\n",
        "->After that all the string in blank_str will be added to random_numbers in the from of list"
      ],
      "metadata": {
        "id": "3AKvvL-5HkUL"
      }
    },
    {
      "cell_type": "code",
      "execution_count": null,
      "metadata": {
        "id": "Q2nV3-Jgv-GR"
      },
      "outputs": [],
      "source": [
        "reverse_mapping_dict = dict()\n",
        "\n",
        "for k in mapping_dict.keys():\n",
        "  reverse_mapping_dict[mapping_dict[k]] = k"
      ]
    },
    {
      "cell_type": "markdown",
      "source": [
        "-> Declaring reverse_mapping_dict as dictionary variable\n",
        "\n",
        "-> Using for loop to run a loop in mapping_dict keys only not in its values\n",
        "\n",
        "-> All the keys in mapping_dict will convert into values and will be stored in reverse_mapping_dict"
      ],
      "metadata": {
        "id": "zhpMyd37AXsm"
      }
    },
    {
      "cell_type": "code",
      "execution_count": null,
      "metadata": {
        "id": "ba745hqvyubF"
      },
      "outputs": [],
      "source": [
        "base_frequency = dict()\n",
        "\n",
        "for blank_str in random_numbers:\n",
        "  highest_digit = max(blank_str)\n",
        "  highest_base = reverse_mapping_dict[highest_digit] + 1\n",
        "\n",
        "  if highest_base in base_frequency.keys():\n",
        "    base_frequency[highest_base] += (1/sample_size)\n",
        "  else:\n",
        "    base_frequency[highest_base] = (1/sample_size)"
      ]
    },
    {
      "cell_type": "markdown",
      "source": [
        "-> To calculate frequency we make a dictionary called base_frequency\n",
        "\n",
        "-> Using loop to go through the list of random_number\n",
        "\n",
        "-> Maximum value of blank_str will store in highest_digit\n",
        "\n",
        "-> Highest_digit will be used as key in reverse_mapping_dict and the value of key will be added by 1 and then stored in highest_base\n",
        "\n",
        "\n",
        "-> In base_frequency key the highest_base will be equal to frequency divied by sample_size to get relative frequency and get incremented\n",
        "\n",
        "-> Else base_frequency will be not incremented\n",
        "\n",
        "\n"
      ],
      "metadata": {
        "id": "krzzuGHD4fTN"
      }
    },
    {
      "cell_type": "code",
      "source": [
        "plt.bar(x=base_frequency.keys(),height=base_frequency.values())"
      ],
      "metadata": {
        "id": "1Tofc60-WSDf",
        "colab": {
          "base_uri": "https://localhost:8080/",
          "height": 447
        },
        "outputId": "56652935-7175-4d6f-f877-7cd85bacf5a5"
      },
      "execution_count": null,
      "outputs": [
        {
          "output_type": "execute_result",
          "data": {
            "text/plain": [
              "<BarContainer object of 36 artists>"
            ]
          },
          "metadata": {},
          "execution_count": 55
        },
        {
          "output_type": "display_data",
          "data": {
            "text/plain": [
              "<Figure size 640x480 with 1 Axes>"
            ],
            "image/png": "[encoded data removed]"
          },
          "metadata": {}
        }
      ]
    },
    {
      "cell_type": "markdown",
      "source": [
        "-> In plt.bar base_frequency.keys is lie on x axis & base_frequency.values is lie on y axis"
      ],
      "metadata": {
        "id": "XMtWtsMhItuk"
      }
    },
    {
      "cell_type": "code",
      "source": [],
      "metadata": {
        "id": "oBwAEakMytY3"
      },
      "execution_count": null,
      "outputs": []
    }
  ],
  "metadata": {
    "colab": {
      "provenance": [],
      "include_colab_link": true
    },
    "kernelspec": {
      "display_name": "Python 3",
      "name": "python3"
    },
    "language_info": {
      "name": "python"
    }
  },
  "nbformat": 4,
  "nbformat_minor": 0
}